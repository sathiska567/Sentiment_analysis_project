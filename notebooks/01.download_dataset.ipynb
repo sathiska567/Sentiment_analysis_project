{
 "cells": [
  {
   "cell_type": "code",
   "execution_count": 2,
   "metadata": {},
   "outputs": [],
   "source": [
    "import numpy as np"
   ]
  },
  {
   "cell_type": "code",
   "execution_count": 3,
   "metadata": {},
   "outputs": [],
   "source": [
    "import json\n",
    "with open('../artifacts/kaggle.json','r') as file:\n",
    "    data = json.load(file)"
   ]
  },
  {
   "cell_type": "code",
   "execution_count": 4,
   "metadata": {},
   "outputs": [
    {
     "data": {
      "text/plain": [
       "{'username': 'sathiskasasindu', 'key': 'd4ad5391001013c5022335fea6e11ffe'}"
      ]
     },
     "execution_count": 4,
     "metadata": {},
     "output_type": "execute_result"
    }
   ],
   "source": [
    "data"
   ]
  },
  {
   "cell_type": "code",
   "execution_count": 5,
   "metadata": {},
   "outputs": [
    {
     "name": "stdout",
     "output_type": "stream",
     "text": [
      "Collecting kaggle\n",
      "  Downloading kaggle-1.6.14.tar.gz (82 kB)\n",
      "     ---------------------------------------- 0.0/82.1 kB ? eta -:--:--\n",
      "     -------------- ------------------------- 30.7/82.1 kB 1.4 MB/s eta 0:00:01\n",
      "     -------------- ------------------------- 30.7/82.1 kB 1.4 MB/s eta 0:00:01\n",
      "     -------------- ------------------------- 30.7/82.1 kB 1.4 MB/s eta 0:00:01\n",
      "     -------------- ------------------------- 30.7/82.1 kB 1.4 MB/s eta 0:00:01\n",
      "     -------------- ------------------------- 30.7/82.1 kB 1.4 MB/s eta 0:00:01\n",
      "     -------------- ------------------------- 30.7/82.1 kB 1.4 MB/s eta 0:00:01\n",
      "     -------------- ------------------------- 30.7/82.1 kB 1.4 MB/s eta 0:00:01\n",
      "     -------------- ------------------------- 30.7/82.1 kB 1.4 MB/s eta 0:00:01\n",
      "     -------------- ------------------------- 30.7/82.1 kB 1.4 MB/s eta 0:00:01\n",
      "     -------------- ------------------------- 30.7/82.1 kB 1.4 MB/s eta 0:00:01\n",
      "     -------------------------------------- 82.1/82.1 kB 143.7 kB/s eta 0:00:00\n",
      "  Installing build dependencies: started\n",
      "  Installing build dependencies: finished with status 'done'\n",
      "  Getting requirements to build wheel: started\n",
      "  Getting requirements to build wheel: finished with status 'done'\n",
      "  Installing backend dependencies: started\n",
      "  Installing backend dependencies: finished with status 'done'\n",
      "  Preparing metadata (pyproject.toml): started\n",
      "  Preparing metadata (pyproject.toml): finished with status 'done'\n",
      "Requirement already satisfied: six>=1.10 in c:\\users\\this pc\\documents\\github\\sentiment_analysis_project\\env\\lib\\site-packages (from kaggle) (1.16.0)\n",
      "Requirement already satisfied: certifi>=2023.7.22 in c:\\users\\this pc\\documents\\github\\sentiment_analysis_project\\env\\lib\\site-packages (from kaggle) (2024.2.2)\n",
      "Requirement already satisfied: python-dateutil in c:\\users\\this pc\\documents\\github\\sentiment_analysis_project\\env\\lib\\site-packages (from kaggle) (2.9.0.post0)\n",
      "Requirement already satisfied: requests in c:\\users\\this pc\\documents\\github\\sentiment_analysis_project\\env\\lib\\site-packages (from kaggle) (2.32.2)\n",
      "Collecting tqdm (from kaggle)\n",
      "  Downloading tqdm-4.66.4-py3-none-any.whl.metadata (57 kB)\n",
      "     ---------------------------------------- 0.0/57.6 kB ? eta -:--:--\n",
      "     --------------------- ------------------ 30.7/57.6 kB ? eta -:--:--\n",
      "     --------------------------------- ---- 51.2/57.6 kB 525.1 kB/s eta 0:00:01\n",
      "     -------------------------------------- 57.6/57.6 kB 508.7 kB/s eta 0:00:00\n",
      "Collecting python-slugify (from kaggle)\n",
      "  Downloading python_slugify-8.0.4-py2.py3-none-any.whl.metadata (8.5 kB)\n",
      "Requirement already satisfied: urllib3 in c:\\users\\this pc\\documents\\github\\sentiment_analysis_project\\env\\lib\\site-packages (from kaggle) (2.2.1)\n",
      "Requirement already satisfied: bleach in c:\\users\\this pc\\documents\\github\\sentiment_analysis_project\\env\\lib\\site-packages (from kaggle) (6.1.0)\n",
      "Requirement already satisfied: webencodings in c:\\users\\this pc\\documents\\github\\sentiment_analysis_project\\env\\lib\\site-packages (from bleach->kaggle) (0.5.1)\n",
      "Collecting text-unidecode>=1.3 (from python-slugify->kaggle)\n",
      "  Downloading text_unidecode-1.3-py2.py3-none-any.whl.metadata (2.4 kB)\n",
      "Requirement already satisfied: charset-normalizer<4,>=2 in c:\\users\\this pc\\documents\\github\\sentiment_analysis_project\\env\\lib\\site-packages (from requests->kaggle) (3.3.2)\n",
      "Requirement already satisfied: idna<4,>=2.5 in c:\\users\\this pc\\documents\\github\\sentiment_analysis_project\\env\\lib\\site-packages (from requests->kaggle) (3.7)\n",
      "Requirement already satisfied: colorama in c:\\users\\this pc\\documents\\github\\sentiment_analysis_project\\env\\lib\\site-packages (from tqdm->kaggle) (0.4.6)\n",
      "Downloading python_slugify-8.0.4-py2.py3-none-any.whl (10 kB)\n",
      "Downloading tqdm-4.66.4-py3-none-any.whl (78 kB)\n",
      "   ---------------------------------------- 0.0/78.3 kB ? eta -:--:--\n",
      "   ---------------------------------------- 0.0/78.3 kB ? eta -:--:--\n",
      "   ---------------------------------------- 0.0/78.3 kB ? eta -:--:--\n",
      "   --------------- ------------------------ 30.7/78.3 kB ? eta -:--:--\n",
      "   --------------- ------------------------ 30.7/78.3 kB ? eta -:--:--\n",
      "   --------------- ------------------------ 30.7/78.3 kB ? eta -:--:--\n",
      "   --------------- ------------------------ 30.7/78.3 kB ? eta -:--:--\n",
      "   ---------------------------------------- 78.3/78.3 kB 310.7 kB/s eta 0:00:00\n",
      "Downloading text_unidecode-1.3-py2.py3-none-any.whl (78 kB)\n",
      "   ---------------------------------------- 0.0/78.2 kB ? eta -:--:--\n",
      "   -------------------- ------------------- 41.0/78.2 kB ? eta -:--:--\n",
      "   ------------------------------- -------- 61.4/78.2 kB 656.4 kB/s eta 0:00:01\n",
      "   ------------------------------- -------- 61.4/78.2 kB 656.4 kB/s eta 0:00:01\n",
      "   ------------------------------- -------- 61.4/78.2 kB 656.4 kB/s eta 0:00:01\n",
      "   ---------------------------------------- 78.2/78.2 kB 334.6 kB/s eta 0:00:00\n",
      "Building wheels for collected packages: kaggle\n",
      "  Building wheel for kaggle (pyproject.toml): started\n",
      "  Building wheel for kaggle (pyproject.toml): finished with status 'done'\n",
      "  Created wheel for kaggle: filename=kaggle-1.6.14-py3-none-any.whl size=105128 sha256=13a781b5f9963db933097c7931f81e1144e7030695e2d6a41a1e044645a7b73b\n",
      "  Stored in directory: c:\\users\\this pc\\appdata\\local\\pip\\cache\\wheels\\89\\bc\\52\\0d140fc172783e1e72e3af4dfc13015dc154527fafb95e65cd\n",
      "Successfully built kaggle\n",
      "Installing collected packages: text-unidecode, tqdm, python-slugify, kaggle\n",
      "Successfully installed kaggle-1.6.14 python-slugify-8.0.4 text-unidecode-1.3 tqdm-4.66.4\n"
     ]
    }
   ],
   "source": [
    "!pip install kaggle"
   ]
  },
  {
   "cell_type": "code",
   "execution_count": 6,
   "metadata": {},
   "outputs": [],
   "source": [
    "import os\n",
    "os.environ['KAGGLE_USERNAME'] = data['username']\n",
    "os.environ['KAGGLE_KEY'] = data['key']"
   ]
  },
  {
   "cell_type": "code",
   "execution_count": 7,
   "metadata": {},
   "outputs": [
    {
     "ename": "ModuleNotFoundError",
     "evalue": "No module named 'kaggle.api.kaggle_api_axtended'",
     "output_type": "error",
     "traceback": [
      "\u001b[1;31m---------------------------------------------------------------------------\u001b[0m",
      "\u001b[1;31mModuleNotFoundError\u001b[0m                       Traceback (most recent call last)",
      "Cell \u001b[1;32mIn[7], line 1\u001b[0m\n\u001b[1;32m----> 1\u001b[0m \u001b[38;5;28;01mfrom\u001b[39;00m \u001b[38;5;21;01mkaggle\u001b[39;00m\u001b[38;5;21;01m.\u001b[39;00m\u001b[38;5;21;01mapi\u001b[39;00m\u001b[38;5;21;01m.\u001b[39;00m\u001b[38;5;21;01mkaggle_api_axtended\u001b[39;00m \u001b[38;5;28;01mimport\u001b[39;00m kaggleApi\n\u001b[0;32m      2\u001b[0m api \u001b[38;5;241m=\u001b[39m kaggleApi()\n\u001b[0;32m      3\u001b[0m api\u001b[38;5;241m.\u001b[39mauthenticate()\n",
      "\u001b[1;31mModuleNotFoundError\u001b[0m: No module named 'kaggle.api.kaggle_api_axtended'"
     ]
    }
   ],
   "source": [
    "from kaggle.api.kaggle_api_axtended import kaggleApi\n",
    "api = kaggleApi()\n",
    "api.authenticate()"
   ]
  },
  {
   "cell_type": "code",
   "execution_count": 8,
   "metadata": {},
   "outputs": [
    {
     "ename": "AttributeError",
     "evalue": "'KaggleApi' object has no attribute 'authenticate'",
     "output_type": "error",
     "traceback": [
      "\u001b[1;31m---------------------------------------------------------------------------\u001b[0m",
      "\u001b[1;31mAttributeError\u001b[0m                            Traceback (most recent call last)",
      "Cell \u001b[1;32mIn[8], line 3\u001b[0m\n\u001b[0;32m      1\u001b[0m \u001b[38;5;28;01mfrom\u001b[39;00m \u001b[38;5;21;01mkaggle\u001b[39;00m\u001b[38;5;21;01m.\u001b[39;00m\u001b[38;5;21;01mapi\u001b[39;00m\u001b[38;5;21;01m.\u001b[39;00m\u001b[38;5;21;01mkaggle_api\u001b[39;00m \u001b[38;5;28;01mimport\u001b[39;00m KaggleApi\n\u001b[0;32m      2\u001b[0m api \u001b[38;5;241m=\u001b[39m KaggleApi()\n\u001b[1;32m----> 3\u001b[0m \u001b[43mapi\u001b[49m\u001b[38;5;241;43m.\u001b[39;49m\u001b[43mauthenticate\u001b[49m()\n",
      "\u001b[1;31mAttributeError\u001b[0m: 'KaggleApi' object has no attribute 'authenticate'"
     ]
    }
   ],
   "source": [
    "from kaggle.api.kaggle_api import KaggleApi\n",
    "api = KaggleApi()\n",
    "api.authenticate()"
   ]
  },
  {
   "cell_type": "code",
   "execution_count": 9,
   "metadata": {},
   "outputs": [
    {
     "ename": "TypeError",
     "evalue": "KaggleApi.authenticate() got an unexpected keyword argument 'username'",
     "output_type": "error",
     "traceback": [
      "\u001b[1;31m---------------------------------------------------------------------------\u001b[0m",
      "\u001b[1;31mTypeError\u001b[0m                                 Traceback (most recent call last)",
      "Cell \u001b[1;32mIn[9], line 7\u001b[0m\n\u001b[0;32m      4\u001b[0m api \u001b[38;5;241m=\u001b[39m KaggleApi()\n\u001b[0;32m      6\u001b[0m \u001b[38;5;66;03m# Set your Kaggle username and API key\u001b[39;00m\n\u001b[1;32m----> 7\u001b[0m \u001b[43mapi\u001b[49m\u001b[38;5;241;43m.\u001b[39;49m\u001b[43mauthenticate\u001b[49m\u001b[43m(\u001b[49m\u001b[43musername\u001b[49m\u001b[38;5;241;43m=\u001b[39;49m\u001b[38;5;124;43m\"\u001b[39;49m\u001b[38;5;124;43msathiskasasindu\u001b[39;49m\u001b[38;5;124;43m\"\u001b[39;49m\u001b[43m,\u001b[49m\u001b[43m \u001b[49m\u001b[43mkey\u001b[49m\u001b[38;5;241;43m=\u001b[39;49m\u001b[38;5;124;43m\"\u001b[39;49m\u001b[38;5;124;43md4ad5391001013c5022335fea6e11ffe\u001b[39;49m\u001b[38;5;124;43m\"\u001b[39;49m\u001b[43m)\u001b[49m\n",
      "\u001b[1;31mTypeError\u001b[0m: KaggleApi.authenticate() got an unexpected keyword argument 'username'"
     ]
    }
   ],
   "source": [
    "from kaggle.api.kaggle_api_extended import KaggleApi\n",
    "\n",
    "# Instantiate the KaggleApi object\n",
    "api = KaggleApi()\n",
    "\n",
    "# Set your Kaggle username and API key\n",
    "api.authenticate(username=\"sathiskasasindu\", key=\"d4ad5391001013c5022335fea6e11ffe\")\n"
   ]
  },
  {
   "cell_type": "code",
   "execution_count": 10,
   "metadata": {},
   "outputs": [
    {
     "ename": "TypeError",
     "evalue": "KaggleApi.authenticate() got an unexpected keyword argument 'username'",
     "output_type": "error",
     "traceback": [
      "\u001b[1;31m---------------------------------------------------------------------------\u001b[0m",
      "\u001b[1;31mTypeError\u001b[0m                                 Traceback (most recent call last)",
      "Cell \u001b[1;32mIn[10], line 7\u001b[0m\n\u001b[0;32m      4\u001b[0m api \u001b[38;5;241m=\u001b[39m KaggleApi()\n\u001b[0;32m      6\u001b[0m \u001b[38;5;66;03m# Set your Kaggle username and API key\u001b[39;00m\n\u001b[1;32m----> 7\u001b[0m \u001b[43mapi\u001b[49m\u001b[38;5;241;43m.\u001b[39;49m\u001b[43mauthenticate\u001b[49m\u001b[43m(\u001b[49m\u001b[43musername\u001b[49m\u001b[38;5;241;43m=\u001b[39;49m\u001b[43mdata\u001b[49m\u001b[43m[\u001b[49m\u001b[38;5;124;43m'\u001b[39;49m\u001b[38;5;124;43musername\u001b[39;49m\u001b[38;5;124;43m'\u001b[39;49m\u001b[43m]\u001b[49m\u001b[43m,\u001b[49m\u001b[43m \u001b[49m\u001b[43mkey\u001b[49m\u001b[38;5;241;43m=\u001b[39;49m\u001b[43mdata\u001b[49m\u001b[43m[\u001b[49m\u001b[38;5;124;43m'\u001b[39;49m\u001b[38;5;124;43mkey\u001b[39;49m\u001b[38;5;124;43m'\u001b[39;49m\u001b[43m]\u001b[49m\u001b[43m)\u001b[49m\n",
      "\u001b[1;31mTypeError\u001b[0m: KaggleApi.authenticate() got an unexpected keyword argument 'username'"
     ]
    }
   ],
   "source": [
    "from kaggle.api.kaggle_api_extended import KaggleApi\n",
    "\n",
    "# Instantiate the KaggleApi object\n",
    "api = KaggleApi()\n",
    "\n",
    "# Set your Kaggle username and API key\n",
    "api.authenticate(username=data['username'], key=data['key'])"
   ]
  },
  {
   "cell_type": "code",
   "execution_count": 11,
   "metadata": {},
   "outputs": [
    {
     "ename": "TypeError",
     "evalue": "KaggleApi.authenticate() got an unexpected keyword argument 'api_key'",
     "output_type": "error",
     "traceback": [
      "\u001b[1;31m---------------------------------------------------------------------------\u001b[0m",
      "\u001b[1;31mTypeError\u001b[0m                                 Traceback (most recent call last)",
      "Cell \u001b[1;32mIn[11], line 7\u001b[0m\n\u001b[0;32m      4\u001b[0m api \u001b[38;5;241m=\u001b[39m KaggleApi()\n\u001b[0;32m      6\u001b[0m \u001b[38;5;66;03m# Set your Kaggle API key\u001b[39;00m\n\u001b[1;32m----> 7\u001b[0m \u001b[43mapi\u001b[49m\u001b[38;5;241;43m.\u001b[39;49m\u001b[43mauthenticate\u001b[49m\u001b[43m(\u001b[49m\u001b[43mapi_key\u001b[49m\u001b[38;5;241;43m=\u001b[39;49m\u001b[38;5;124;43m\"\u001b[39;49m\u001b[38;5;124;43md4ad5391001013c5022335fea6e11ffe\u001b[39;49m\u001b[38;5;124;43m\"\u001b[39;49m\u001b[43m)\u001b[49m\n",
      "\u001b[1;31mTypeError\u001b[0m: KaggleApi.authenticate() got an unexpected keyword argument 'api_key'"
     ]
    }
   ],
   "source": [
    "from kaggle.api.kaggle_api_extended import KaggleApi\n",
    "\n",
    "# Instantiate the KaggleApi object\n",
    "api = KaggleApi()\n",
    "\n",
    "# Set your Kaggle API key\n",
    "api.authenticate(api_key=\"d4ad5391001013c5022335fea6e11ffe\")\n"
   ]
  },
  {
   "cell_type": "code",
   "execution_count": 12,
   "metadata": {},
   "outputs": [],
   "source": [
    "import os\n",
    "os.environ['KAGGLE_USERNAME'] = data['username']\n",
    "os.environ['KAGGLE_KEY'] = data['key']"
   ]
  },
  {
   "cell_type": "code",
   "execution_count": 13,
   "metadata": {},
   "outputs": [
    {
     "ename": "TypeError",
     "evalue": "KaggleApi.authenticate() got an unexpected keyword argument 'KAGGLE_USERNAME'",
     "output_type": "error",
     "traceback": [
      "\u001b[1;31m---------------------------------------------------------------------------\u001b[0m",
      "\u001b[1;31mTypeError\u001b[0m                                 Traceback (most recent call last)",
      "Cell \u001b[1;32mIn[13], line 7\u001b[0m\n\u001b[0;32m      4\u001b[0m api \u001b[38;5;241m=\u001b[39m KaggleApi()\n\u001b[0;32m      6\u001b[0m \u001b[38;5;66;03m# Set your Kaggle username and API key\u001b[39;00m\n\u001b[1;32m----> 7\u001b[0m \u001b[43mapi\u001b[49m\u001b[38;5;241;43m.\u001b[39;49m\u001b[43mauthenticate\u001b[49m\u001b[43m(\u001b[49m\u001b[43mKAGGLE_USERNAME\u001b[49m\u001b[38;5;241;43m=\u001b[39;49m\u001b[43mdata\u001b[49m\u001b[43m[\u001b[49m\u001b[38;5;124;43m'\u001b[39;49m\u001b[38;5;124;43musername\u001b[39;49m\u001b[38;5;124;43m'\u001b[39;49m\u001b[43m]\u001b[49m\u001b[43m,\u001b[49m\u001b[43m \u001b[49m\u001b[43mKAGGLE_KEY\u001b[49m\u001b[38;5;241;43m=\u001b[39;49m\u001b[43mdata\u001b[49m\u001b[43m[\u001b[49m\u001b[38;5;124;43m'\u001b[39;49m\u001b[38;5;124;43mkey\u001b[39;49m\u001b[38;5;124;43m'\u001b[39;49m\u001b[43m]\u001b[49m\u001b[43m)\u001b[49m\n",
      "\u001b[1;31mTypeError\u001b[0m: KaggleApi.authenticate() got an unexpected keyword argument 'KAGGLE_USERNAME'"
     ]
    }
   ],
   "source": [
    "from kaggle.api.kaggle_api_extended import KaggleApi\n",
    "\n",
    "# Instantiate the KaggleApi object\n",
    "api = KaggleApi()\n",
    "\n",
    "# Set your Kaggle username and API key\n",
    "api.authenticate(KAGGLE_USERNAME=data['username'], KAGGLE_KEY=data['key'])"
   ]
  },
  {
   "cell_type": "code",
   "execution_count": 14,
   "metadata": {},
   "outputs": [
    {
     "ename": "ModuleNotFoundError",
     "evalue": "No module named 'kaggle.api.kaggle_api_axtended'",
     "output_type": "error",
     "traceback": [
      "\u001b[1;31m---------------------------------------------------------------------------\u001b[0m",
      "\u001b[1;31mModuleNotFoundError\u001b[0m                       Traceback (most recent call last)",
      "Cell \u001b[1;32mIn[14], line 1\u001b[0m\n\u001b[1;32m----> 1\u001b[0m \u001b[38;5;28;01mfrom\u001b[39;00m \u001b[38;5;21;01mkaggle\u001b[39;00m\u001b[38;5;21;01m.\u001b[39;00m\u001b[38;5;21;01mapi\u001b[39;00m\u001b[38;5;21;01m.\u001b[39;00m\u001b[38;5;21;01mkaggle_api_axtended\u001b[39;00m \u001b[38;5;28;01mimport\u001b[39;00m kaggleApi\n\u001b[0;32m      2\u001b[0m api \u001b[38;5;241m=\u001b[39m kaggleApi()\n\u001b[0;32m      3\u001b[0m api\u001b[38;5;241m.\u001b[39mauthenticate()\n",
      "\u001b[1;31mModuleNotFoundError\u001b[0m: No module named 'kaggle.api.kaggle_api_axtended'"
     ]
    }
   ],
   "source": [
    "from kaggle.api.kaggle_api_axtended import kaggleApi\n",
    "api = kaggleApi()\n",
    "api.authenticate()"
   ]
  },
  {
   "cell_type": "code",
   "execution_count": 15,
   "metadata": {},
   "outputs": [],
   "source": [
    "from kaggle.api.kaggle_api_extended import KaggleApi\n",
    "\n",
    "# Instantiate the KaggleApi object\n",
    "api = KaggleApi()\n",
    "\n",
    "# Authenticate using the Kaggle API credentials\n",
    "api.authenticate()\n"
   ]
  },
  {
   "cell_type": "code",
   "execution_count": 16,
   "metadata": {},
   "outputs": [
    {
     "name": "stdout",
     "output_type": "stream",
     "text": [
      "Dataset URL: https://www.kaggle.com/datasets/dineshpiyasamara/sentiment-analysis-dataset\n"
     ]
    }
   ],
   "source": [
    "api.dataset_download_files('dineshpiyasamara/sentiment-analysis-dataset',path='../artifacts/')"
   ]
  },
  {
   "cell_type": "code",
   "execution_count": 17,
   "metadata": {},
   "outputs": [
    {
     "ename": "SyntaxError",
     "evalue": "expected ':' (2649264754.py, line 2)",
     "output_type": "error",
     "traceback": [
      "\u001b[1;36m  Cell \u001b[1;32mIn[17], line 2\u001b[1;36m\u001b[0m\n\u001b[1;33m    with zipfile.ZipFile('../artifacts/sentiment-analysis-dataset.zip','r') as zip_ref\u001b[0m\n\u001b[1;37m                                                                                      ^\u001b[0m\n\u001b[1;31mSyntaxError\u001b[0m\u001b[1;31m:\u001b[0m expected ':'\n"
     ]
    }
   ],
   "source": [
    "import zipfile\n",
    "with zipfile.ZipFile('../artifacts/sentiment-analysis-dataset.zip','r') as zip_ref\n",
    "zip_ref.extractall('../artifacts/')"
   ]
  },
  {
   "cell_type": "code",
   "execution_count": 18,
   "metadata": {},
   "outputs": [],
   "source": [
    "import zipfile\n",
    "with zipfile.ZipFile('../artifacts/sentiment-analysis-dataset.zip','r') as zip_ref:\n",
    "    zip_ref.extractall('../artifacts/')"
   ]
  },
  {
   "cell_type": "code",
   "execution_count": null,
   "metadata": {},
   "outputs": [],
   "source": []
  }
 ],
 "metadata": {
  "kernelspec": {
   "display_name": "Python 3 (ipykernel)",
   "language": "python",
   "name": "python3"
  },
  "language_info": {
   "codemirror_mode": {
    "name": "ipython",
    "version": 3
   },
   "file_extension": ".py",
   "mimetype": "text/x-python",
   "name": "python",
   "nbconvert_exporter": "python",
   "pygments_lexer": "ipython3",
   "version": "3.12.2"
  }
 },
 "nbformat": 4,
 "nbformat_minor": 4
}
